{
  "nbformat": 4,
  "nbformat_minor": 0,
  "metadata": {
    "colab": {
      "provenance": [],
      "authorship_tag": "ABX9TyM2V3AWvdZUb50EZWXpeB2o",
      "include_colab_link": true
    },
    "kernelspec": {
      "name": "python3",
      "display_name": "Python 3"
    },
    "language_info": {
      "name": "python"
    }
  },
  "cells": [
    {
      "cell_type": "markdown",
      "metadata": {
        "id": "view-in-github",
        "colab_type": "text"
      },
      "source": [
        "<a href=\"https://colab.research.google.com/github/thanyarattnp/datastructure/blob/main/Ex_SLL.ipynb\" target=\"_parent\"><img src=\"https://colab.research.google.com/assets/colab-badge.svg\" alt=\"Open In Colab\"/></a>"
      ]
    },
    {
      "cell_type": "code",
      "execution_count": null,
      "metadata": {
        "id": "-xqScjnwWQ1z"
      },
      "outputs": [],
      "source": [
        "# Declare Class of Node\n",
        "class Node:\n",
        "  .....\n"
      ]
    },
    {
      "cell_type": "code",
      "source": [
        "# Declare Class of Singly Linked List\n",
        "class SLL:\n",
        "\n",
        "  def __init__(self):\n",
        "    self.head = None\n",
        "    self.count = 0\n",
        "\n",
        "  def isEmpty(self):\n",
        "    return self.head == None\n",
        "\n",
        "  def add_first(self,data):\n",
        "    if self.head == None:\n",
        "      self.head = Node(data)\n",
        "    else:\n",
        "      newnode = Node(data)\n",
        "      newnode.next = self.head\n",
        "      self.head = newnode\n",
        "    self.count += 1\n",
        "\n",
        "  def display(self):\n",
        "    current = self.head\n",
        "    while current:\n",
        "        print(current.data, end=\" -> \")\n",
        "        current = current.next\n",
        "    print(\"None\")\n",
        "\n",
        "  def setposition(self,index):\n",
        "    if(index < 0) or (index>self.count-1):\n",
        "      print(\"Invalid Index\")\n",
        "    else:\n",
        "      p = 0\n",
        "      current = self.head\n",
        "      while(index !=p):\n",
        "        current = current.next\n",
        "        p = p+1\n",
        "      return current\n",
        "\n",
        "  def insert_index(self,index,data):\n",
        "    if(index < 0) or (index>self.count):\n",
        "      print(\"Invalid Index\")\n",
        "    elif index == 0:\n",
        "      self.add_first(data)\n",
        "    else:\n",
        "      current = self.setposition(index-1)\n",
        "      print(current.data)\n",
        "      newnode = Node(data)\n",
        "      newnode.next = current.next\n",
        "      current.next = newnode\n",
        "      self.count += 1\n",
        "\n",
        "  def add_last(self,data):\n",
        "    if self.isEmpty():\n",
        "      self.add_first(data)\n",
        "    else:\n",
        "      current = self.setposition(self.count-1)\n",
        "      newnode = Node(data)\n",
        "      current.next = newnode\n",
        "      self.count += 1\n",
        "\n",
        "  def delete_first(self):\n",
        "    if self.isEmpty():\n",
        "      print(\"List is Empty\")\n",
        "    else:\n",
        "      delnode = self.head\n",
        "      self.head = self.head.next\n",
        "      item =delnode.data\n",
        "      del delnode\n",
        "      self.count -= 1\n",
        "      return item\n",
        "\n",
        "  def del_index(self,index):\n",
        "    if self.isEmpty():\n",
        "      print(\"There's no any Node present\")\n",
        "    elif(index == 0):\n",
        "      self.delete_first()\n",
        "    else:\n",
        "      current = self.setposition(index - 1)\n",
        "      delnode = current\n",
        "      current.next = current.next.next\n",
        "      del delnode\n",
        "      self.count = self.count - 1\n",
        "\n",
        "  def delete_last(self):\n",
        "    if self.isEmpty():\n",
        "      print(\"There's no any Node present\")\n",
        "    elif self.count == 1:\n",
        "      self.delete_first()\n",
        "    else:\n",
        "      current = self.setposition(self.count - 2)\n",
        "      delnode = current.next\n",
        "      item = delnode.data\n",
        "      del delnode\n",
        "      current.next = None\n",
        "      self.count -= 1\n",
        "      return item\n",
        "\n",
        "  def get_index(self,item):\n",
        "    current = self.head\n",
        "    index = 0\n",
        "    while current:\n",
        "      if current.data == item:\n",
        "        return index\n",
        "      current = current.next\n",
        "      index += 1\n",
        "    return -1\n",
        "\n",
        "  def delete_item(self,item):\n",
        "    index = self.get_index(item)\n",
        "    if index == -1:\n",
        "      print(\"Item not found\")\n",
        "    else:\n",
        "      self.del_index(index)\n",
        "      print(\"Item deleted\")\n",
        "\n",
        "  def get_item(self,index):\n",
        "    if self.isEmpty():\n",
        "      print(\"List is empty\")\n",
        "      return\n",
        "    elif not index in range(0, self.count-1):\n",
        "      print(\"index error\")\n",
        "      return\n",
        "    else:\n",
        "      current = self.setposition(index)\n",
        "      return current.data\n",
        "\n",
        "  def replace_item(self,old,new):\n",
        "    index = self.get_index(old)\n",
        "    if index == -1:\n",
        "      print(\"Item not found\")\n",
        "    else:\n",
        "      current = self.setposition(index)\n",
        "      current.data = new\n",
        "      print(\"Item replaced\")"
      ],
      "metadata": {
        "id": "L7LMETzlWVyK"
      },
      "execution_count": null,
      "outputs": []
    },
    {
      "cell_type": "code",
      "source": [],
      "metadata": {
        "id": "_5OA_h7oNYlC"
      },
      "execution_count": null,
      "outputs": []
    },
    {
      "cell_type": "markdown",
      "source": [
        "Drive Program"
      ],
      "metadata": {
        "id": "Kdv0SZIRWrMi"
      }
    },
    {
      "cell_type": "code",
      "source": [
        "sl = SLL()\n",
        "sl.isEmpty()\n",
        "sl.add_first(\"A\")\n",
        "sl.add_first(\"B\")\n",
        "sl.add_first(\"C\")\n",
        "sl.display()\n",
        "print(sl.count)\n",
        "current = sl.setposition(2)\n",
        "print(current.data)\n",
        "current = sl.setposition(1)\n",
        "sl.insert_index(3,\"D\")\n",
        "sl.display()\n",
        "print(sl.count)\n",
        "sl.add_last(\"E\")\n",
        "sl.display()\n",
        "print(sl.count)\n",
        "\n",
        "sl.delete_item(\"D\")\n",
        "sl.display()\n",
        "print(sl.count)\n",
        "\n",
        "print(\"data : \",sl.get_item(2))\n",
        "sl.replace_item(\"E\",\"F\")\n",
        "sl.display()\n",
        "print(sl.count)\n",
        "'''\n",
        "print(sl.delete_first(), \": deleted\")\n",
        "sl.display()\n",
        "print(\"number of data : \",sl.count)\n",
        "sl.del_index(2)\n",
        "sl.display()\n",
        "print(\"number of data : \",sl.count)\n",
        "print(sl.delete_last(), \": deleted\")\n",
        "sl.display()\n",
        "print(\"number of data : \",sl.count)\n",
        "print(sl.delete_last(), \": deleted\")\n",
        "sl.display()\n",
        "print(\"number of data : \",sl.count)\n",
        "'''"
      ],
      "metadata": {
        "colab": {
          "base_uri": "https://localhost:8080/",
          "height": 313
        },
        "id": "XVwuVzqpWtPC",
        "outputId": "50153f56-8410-4f69-b06f-56b5deb66115"
      },
      "execution_count": null,
      "outputs": [
        {
          "output_type": "stream",
          "name": "stdout",
          "text": [
            "C -> B -> A -> None\n",
            "3\n",
            "A\n",
            "A\n",
            "C -> B -> A -> D -> None\n",
            "4\n",
            "C -> B -> A -> D -> E -> None\n",
            "5\n",
            "Item deleted\n",
            "C -> B -> A -> E -> None\n",
            "4\n",
            "data :  A\n",
            "Item replaced\n",
            "C -> B -> A -> F -> None\n",
            "4\n"
          ]
        },
        {
          "output_type": "execute_result",
          "data": {
            "text/plain": [
              "'\\nprint(sl.delete_first(), \": deleted\")\\nsl.display()\\nprint(\"number of data : \",sl.count)\\nsl.del_index(2)\\nsl.display()\\nprint(\"number of data : \",sl.count)\\nprint(sl.delete_last(), \": deleted\")\\nsl.display()\\nprint(\"number of data : \",sl.count)\\nprint(sl.delete_last(), \": deleted\")\\nsl.display()\\nprint(\"number of data : \",sl.count)\\n'"
            ],
            "application/vnd.google.colaboratory.intrinsic+json": {
              "type": "string"
            }
          },
          "metadata": {},
          "execution_count": 56
        }
      ]
    }
  ]
}