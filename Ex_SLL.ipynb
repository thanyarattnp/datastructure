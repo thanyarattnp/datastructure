{
  "nbformat": 4,
  "nbformat_minor": 0,
  "metadata": {
    "colab": {
      "provenance": [],
      "authorship_tag": "ABX9TyN1zlQSSg1S3WveIPxDV7yT",
      "include_colab_link": true
    },
    "kernelspec": {
      "name": "python3",
      "display_name": "Python 3"
    },
    "language_info": {
      "name": "python"
    }
  },
  "cells": [
    {
      "cell_type": "markdown",
      "metadata": {
        "id": "view-in-github",
        "colab_type": "text"
      },
      "source": [
        "<a href=\"https://colab.research.google.com/github/thanyarattnp/datastructure/blob/main/Ex_SLL.ipynb\" target=\"_parent\"><img src=\"https://colab.research.google.com/assets/colab-badge.svg\" alt=\"Open In Colab\"/></a>"
      ]
    },
    {
      "cell_type": "code",
      "execution_count": null,
      "metadata": {
        "id": "-xqScjnwWQ1z"
      },
      "outputs": [],
      "source": [
        "# Define the Node class\n",
        "class Node:\n",
        "  ...\n"
      ]
    },
    {
      "cell_type": "code",
      "source": [
        "# Define the Singly Linked List class\n",
        "class SLL:\n",
        "  # Constructor of the SLL\n",
        "  def __init__(self):\n",
        "    ...\n",
        "\n",
        "  # Check if the SLL is empty\n",
        "  def isEmpty(self):\n",
        "    ...\n",
        "\n",
        "  # Insert data at the beginning of the list\n",
        "  def add_first(self,data):\n",
        "    ...\n",
        "\n",
        "  # Traverse the SLL and display all data from the head\n",
        "  def display(self):\n",
        "    ...\n",
        "\n",
        "  # Return the Node reference at the specified index\n",
        "  def setposition(self,index):\n",
        "    ...\n",
        "\n",
        "  # Insert a new node at the specified index\n",
        "  def insert_index(self,index,data):\n",
        "    ...\n",
        "\n",
        "  # Insert data at the end of the list\n",
        "  def add_last(self,data):\n",
        "    ...\n",
        "\n",
        "  # Delete a first node at the beginning of the list\n",
        "  def delete_first(self):\n",
        "    ...\n",
        "\n",
        "  # Delete a node at the specified index\n",
        "  def delete_index(self,index):\n",
        "    ...\n",
        "\n",
        "  # Delete a node at the end of the list\n",
        "  def delete_last(self):\n",
        "    ...\n",
        "\n",
        "  # Return the index of the the node containging the specified item\n",
        "  def get_index(self,item):\n",
        "    ...\n",
        "\n",
        "  # Delete the first occurrence of the specified item from the list\n",
        "  def delete_item(self,item):\n",
        "    ...\n",
        "\n",
        "  # Return the data stored at the specified index\n",
        "  def get_item(self,index):\n",
        "    ...\n",
        "\n",
        "  # Replace the first occurrence of the old item with the new item\n",
        "  def replace_item(self,old,new):\n",
        "    ...\n",
        ""
      ],
      "metadata": {
        "id": "L7LMETzlWVyK"
      },
      "execution_count": null,
      "outputs": []
    },
    {
      "cell_type": "code",
      "source": [
        "def print_menu():\n",
        "  print(\"\\n=== Singly Linked List Menu ===\")\n",
        "  print(\"1. Insert at beginning\")\n",
        "  print(\"2. Insert at end\")\n",
        "  print(\"3. Insert at index\")\n",
        "  print(\"4. Delete first node\")\n",
        "  print(\"5. Delete last node\")\n",
        "  print(\"6. Delete by index\")\n",
        "  print(\"7. Delete by item\")\n",
        "  print(\"8. Display list\")\n",
        "  print(\"9. Get index of item\")\n",
        "  print(\"10. Get item by index\")\n",
        "  print(\"11. Replace item\")\n",
        "  print(\"12. Get size of list\")\n",
        "  print(\"0. Exit\")"
      ],
      "metadata": {
        "id": "_5OA_h7oNYlC"
      },
      "execution_count": null,
      "outputs": []
    },
    {
      "cell_type": "markdown",
      "source": [
        "Drive Program"
      ],
      "metadata": {
        "id": "Kdv0SZIRWrMi"
      }
    },
    {
      "cell_type": "code",
      "source": [
        "sl = SLL()\n",
        "loop = True\n",
        "while loop:\n",
        "  print_menu()\n",
        "  choice = input(\"Enter your choice: \")\n",
        "  if choice == \"1\":\n",
        "    ...\n",
        "  elif choice == \"2\":\n",
        "    ...\n",
        "  elif choice == \"3\":\n",
        "    ...\n",
        "  elif choice == \"4\":\n",
        "    ...\n",
        "  elif choice == \"5\":\n",
        "    ...\n",
        "  elif choice == \"6\":\n",
        "    ...\n",
        "  elif choice == \"7\":\n",
        "    ...\n",
        "  elif choice == \"8\":\n",
        "    ...\n",
        "  elif choice == \"9\":\n",
        "    ...\n",
        "  elif choice == \"10\":\n",
        "    ...\n",
        "  elif choice == \"11\":\n",
        "    ...\n",
        "  elif choice == \"12\":\n",
        "    ...\n",
        "  elif choice == \"0\":\n",
        "    ...\n",
        "    break\n",
        "  else:\n",
        "    print(\"Invalid choice! Please try again.\")"
      ],
      "metadata": {
        "id": "XVwuVzqpWtPC"
      },
      "execution_count": null,
      "outputs": []
    }
  ]
}