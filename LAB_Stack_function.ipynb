{
  "nbformat": 4,
  "nbformat_minor": 0,
  "metadata": {
    "colab": {
      "provenance": [],
      "authorship_tag": "ABX9TyMcJWUm6ziGvfPJJVjrOM5Z",
      "include_colab_link": true
    },
    "kernelspec": {
      "name": "python3",
      "display_name": "Python 3"
    },
    "language_info": {
      "name": "python"
    }
  },
  "cells": [
    {
      "cell_type": "markdown",
      "metadata": {
        "id": "view-in-github",
        "colab_type": "text"
      },
      "source": [
        "<a href=\"https://colab.research.google.com/github/thanyarattnp/datastructure/blob/main/LAB_Stack_function.ipynb\" target=\"_parent\"><img src=\"https://colab.research.google.com/assets/colab-badge.svg\" alt=\"Open In Colab\"/></a>"
      ]
    },
    {
      "cell_type": "code",
      "source": [
        "class Stack:\n",
        "  def __init__(self):\n",
        "    self.items = [0,0,0,0,0]\n",
        "    self.max_stack= 5\n",
        "    self.top = -1\n",
        "\n",
        "  def isFull(self):\n",
        "    return self.top == self.max_stack-1\n",
        "\n",
        "  def isEmpty(self):\n",
        "    return self.top == -1\n",
        "\n",
        "  def push(self,item):\n",
        "    if(self.isFull()):\n",
        "      print(\"Stack is Overflow !!!\")\n",
        "    else:\n",
        "      self.top = self.top+1\n",
        "      self.items[self.top] = item\n",
        "\n",
        "  def pop(self):\n",
        "    if(self.isEmpty()):\n",
        "      print(\"Stack is Underflow !!!\")\n",
        "    else:\n",
        "      item = self.items[self.top]\n",
        "      self.top = self.top-1\n",
        "      return item\n",
        "\n",
        "  def size(self):\n",
        "    return self.top+1\n",
        "\n",
        "  def peek(self):\n",
        "    if(self.isEmpty()):\n",
        "      return \"Stack is Empty !!!\"\n",
        "    else:\n",
        "      return self.items[self.top]\n",
        "\n",
        "  def stack_element(self):\n",
        "    i = self.top\n",
        "    s_element= \"\"\n",
        "    while i>=0:\n",
        "      s_element = s_element + \"[\" + s.items[i] + \"]\"\n",
        "      i-=1\n",
        "    return s_element"
      ],
      "metadata": {
        "id": "CPo1FLLTMHmD"
      },
      "execution_count": null,
      "outputs": []
    },
    {
      "cell_type": "code",
      "source": [
        "def print_menu():      ## Your menu design here\n",
        "  print (30*\"-\",\"MENU\",30*\"-\")\n",
        "  print (\"1. push stack\")\n",
        "  print (\"2. pop stack\")\n",
        "  print (\"3. stack size\")\n",
        "  print (\"4. stack peek\")\n",
        "  print (\"5. stack element\")\n",
        "  print (\"6. pop all\")\n",
        "  print (\"7. Exit\")\n",
        "  print (67 * \"-\")"
      ],
      "metadata": {
        "id": "fK90o-3-bsaN"
      },
      "execution_count": null,
      "outputs": []
    },
    {
      "cell_type": "code",
      "source": [
        "loop = True\n",
        "s = Stack()\n",
        "while loop:\n",
        "  print_menu()    ## Displays menu\n",
        "  choice = int(input(\"Enter your choice [1-7]: \"))\n",
        "  if choice==1:      ## push item into stack\n",
        "    item = input(\"Enter item to push : \")\n",
        "    s.push(item)\n",
        "\n",
        "  elif choice==7:      ## exit\n",
        "    loop=False"
      ],
      "metadata": {
        "id": "z7vmMvQTOC7a"
      },
      "execution_count": null,
      "outputs": []
    }
  ]
}